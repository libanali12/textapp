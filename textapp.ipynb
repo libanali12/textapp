{
 "cells": [
  {
   "cell_type": "code",
   "execution_count": 92,
   "id": "8c080e8a",
   "metadata": {},
   "outputs": [],
   "source": [
    "import pandas as pd \n",
    "import numpy as np\n",
    "import matplotlib.pyplot as plt\n",
    "import streamlit as st\n",
    "import plotly.express as px\n",
    "import re\n",
    "from imblearn.over_sampling import SMOTE\n",
    "from nltk.tokenize import word_tokenize\n",
    "from sklearn.feature_extraction.text import TfidfVectorizer\n",
    "from sklearn.model_selection import train_test_split\n",
    "from sklearn.naive_bayes import MultinomialNB\n",
    "from sklearn.linear_model import LogisticRegression\n",
    "from sklearn.svm import LinearSVC\n",
    "from sklearn.model_selection import cross_val_score\n",
    "from sklearn.preprocessing import MinMaxScaler\n",
    "import warnings\n",
    "warnings.filterwarnings(\"ignore\")"
   ]
  },
  {
   "cell_type": "code",
   "execution_count": 93,
   "id": "e388cc49",
   "metadata": {},
   "outputs": [],
   "source": [
    "url = 'https://raw.githubusercontent.com/libanali12/textapp/main/TheSocialDilemma.csv'\n",
    "df = pd.read_csv(url)"
   ]
  },
  {
   "cell_type": "code",
   "execution_count": 94,
   "id": "c73ce9c0",
   "metadata": {},
   "outputs": [],
   "source": [
    "user_location = df['user_location'].value_counts().reset_index()\n",
    "user_location.columns = ['user_location', 'count']\n",
    "user_location = user_location[user_location['user_location']!='NA']\n",
    "user_location = user_location.sort_values(['count'],ascending=False)"
   ]
  },
  {
   "cell_type": "code",
   "execution_count": 95,
   "id": "b24cf047",
   "metadata": {},
   "outputs": [],
   "source": [
    "user_name = df['user_name'].value_counts().reset_index()\n",
    "user_name.columns = ['user_name', 'count']\n",
    "user_name = user_name[user_name['user_name']!='NA']\n",
    "user_name = user_name.sort_values(['count'],ascending=False)"
   ]
  },
  {
   "cell_type": "code",
   "execution_count": 96,
   "id": "565248b2",
   "metadata": {},
   "outputs": [],
   "source": [
    "source = df['source'].value_counts().reset_index()\n",
    "source.columns = ['source', 'count']\n",
    "source = source[source['source']!='NA']\n",
    "source = source.sort_values(['count'],ascending=False)"
   ]
  },
  {
   "cell_type": "code",
   "execution_count": 97,
   "id": "b97af51a",
   "metadata": {},
   "outputs": [],
   "source": [
    "hashtags = df['hashtags'].value_counts().reset_index()\n",
    "hashtags.columns = ['hashtags', 'count']\n",
    "hashtags = hashtags[hashtags['hashtags']!='NA']\n",
    "hashtags = hashtags.sort_values(['count'],ascending=False)"
   ]
  },
  {
   "cell_type": "code",
   "execution_count": 98,
   "id": "5a96e289",
   "metadata": {},
   "outputs": [],
   "source": [
    "sentiment = df['Sentiment'].value_counts().reset_index()\n",
    "sentiment.columns = ['sentiment', 'count']\n",
    "sentiment = sentiment[sentiment['sentiment']!='NA']\n",
    "sentiment = sentiment.sort_values(['count'],ascending=False)"
   ]
  },
  {
   "cell_type": "code",
   "execution_count": 99,
   "id": "4407f603",
   "metadata": {},
   "outputs": [],
   "source": [
    "def clean_text(x):\n",
    "  x = x.lower()\n",
    "  x = re.sub('\\[.*?\\]', '', x)\n",
    "  x = re.sub('https?://\\S+|www\\.\\S+', '', x)\n",
    "  x = re.sub('\\n', '', x)\n",
    "  x = \" \".join(filter(lambda x:x[0]!=\"@\", word_tokenize(x)))\n",
    "  return x"
   ]
  },
  {
   "cell_type": "code",
   "execution_count": 100,
   "id": "790eb02f",
   "metadata": {},
   "outputs": [],
   "source": [
    "df['text'] = df['text'].apply(lambda x: clean_text(x))"
   ]
  },
  {
   "cell_type": "code",
   "execution_count": 101,
   "id": "ab7af93f",
   "metadata": {},
   "outputs": [],
   "source": [
    "df['target'] = pd.factorize(df['Sentiment'])[0]"
   ]
  },
  {
   "cell_type": "code",
   "execution_count": 102,
   "id": "68bf10a2",
   "metadata": {},
   "outputs": [],
   "source": [
    "final_df = df[['text','Sentiment','target']]"
   ]
  },
  {
   "cell_type": "code",
   "execution_count": 103,
   "id": "88524b3b",
   "metadata": {},
   "outputs": [],
   "source": [
    "tfidf = TfidfVectorizer(min_df=5,stop_words='english')\n",
    "scaler = MinMaxScaler()"
   ]
  },
  {
   "cell_type": "code",
   "execution_count": 104,
   "id": "f6708e91",
   "metadata": {},
   "outputs": [],
   "source": [
    "features_tfidf = scaler.fit_transform(tfidf.fit_transform(final_df.text).toarray())"
   ]
  },
  {
   "cell_type": "code",
   "execution_count": 105,
   "id": "afdff91e",
   "metadata": {},
   "outputs": [],
   "source": [
    "x = features_tfidf\n",
    "y = final_df['target']"
   ]
  },
  {
   "cell_type": "code",
   "execution_count": 106,
   "id": "ddf7b7ef",
   "metadata": {},
   "outputs": [],
   "source": [
    "l_svc1 = LinearSVC(C=1,random_state=0)\n",
    "nb1 = MultinomialNB(alpha= 1.5, fit_prior= False)\n",
    "lr1 = LogisticRegression(C= 1.0, penalty= 'l1', solver='liblinear',random_state=0)"
   ]
  },
  {
   "cell_type": "code",
   "execution_count": 107,
   "id": "44b61c83",
   "metadata": {},
   "outputs": [],
   "source": [
    "smote = SMOTE()\n",
    "x_sm,y_sm = smote.fit_resample(x,y)"
   ]
  },
  {
   "cell_type": "code",
   "execution_count": 108,
   "id": "088bbfd2",
   "metadata": {},
   "outputs": [],
   "source": [
    "accuracies1 = cross_val_score(l_svc1, x_sm, y_sm, scoring='accuracy', cv=3).mean()"
   ]
  },
  {
   "cell_type": "code",
   "execution_count": 109,
   "id": "3789a040",
   "metadata": {},
   "outputs": [],
   "source": [
    "accuracies2 = cross_val_score(nb1, x_sm, y_sm, scoring='accuracy', cv=3).mean()"
   ]
  },
  {
   "cell_type": "code",
   "execution_count": 110,
   "id": "f1c56b40",
   "metadata": {},
   "outputs": [],
   "source": [
    "accuracies3 = cross_val_score(lr1, x_sm, y_sm, scoring='accuracy', cv=3).mean()"
   ]
  },
  {
   "cell_type": "code",
   "execution_count": 111,
   "id": "35f95377",
   "metadata": {},
   "outputs": [],
   "source": [
    "data = {'Accuracy Score':[accuracies1, accuracies2, accuracies3]}\n",
    "cv_df = pd.DataFrame(data, index=['LinearSVC', 'MultinomialNB', 'LogisticRegression'])"
   ]
  },
  {
   "cell_type": "code",
   "execution_count": 112,
   "id": "34e3fd5c",
   "metadata": {},
   "outputs": [
    {
     "data": {
      "text/plain": [
       "LogisticRegression(penalty='l1', random_state=0, solver='liblinear')"
      ]
     },
     "execution_count": 112,
     "metadata": {},
     "output_type": "execute_result"
    }
   ],
   "source": [
    "lr1.fit(x_sm,y_sm)"
   ]
  },
  {
   "cell_type": "code",
   "execution_count": 113,
   "id": "b725b4aa",
   "metadata": {
    "scrolled": false
   },
   "outputs": [],
   "source": [
    "def main():\n",
    "    st.title(\"Social Dilemma Tweet Classification App\")\n",
    "    menu = [\"Home\",\"Model\"]\n",
    "    choice = st.sidebar.selectbox(\"Menu\",menu)\n",
    "    if choice == \"Home\":\n",
    "        st.subheader(\"Home\")\n",
    "        st.write('Social Dilemma Tweet Dataset')\n",
    "        st.dataframe(df.head(5))\n",
    "        st.subheader(\"Exploratory Data Analysis\")\n",
    "        fig1 = px.bar(user_location,x=user_location.head(10)[\"count\"], y=user_location.head(10)[\"user_location\"],\n",
    "             color_discrete_sequence=px.colors.qualitative.Alphabet,\n",
    "             height=600, width=900)\n",
    "        fig1.update_layout(template=\"plotly_white\",xaxis_showgrid=False,\n",
    "                  yaxis_showgrid=False)\n",
    "        fig1.update_traces( marker_line_color='rgb(8,48,107)',\n",
    "                  marker_line_width=2, opacity=0.6)\n",
    "        fig1.update_layout(showlegend=False, title=\"Top 10 user locations\",\n",
    "                  xaxis_title=\"Count\",\n",
    "                  yaxis_title=\"user_location\")\n",
    "        fig1.update_xaxes(showline=True, linewidth=1, linecolor='black')\n",
    "        fig1.update_yaxes(showline=True, linewidth=1, linecolor='black')\n",
    "        st.plotly_chart(fig1)\n",
    "        fig2 = px.bar(user_name,x=user_name.head(10)[\"count\"], y=user_name.head(10)[\"user_name\"],\n",
    "             color_discrete_sequence=px.colors.qualitative.Alphabet,\n",
    "             height=600, width=900)\n",
    "        fig2.update_layout(template=\"plotly_white\",xaxis_showgrid=False,\n",
    "                  yaxis_showgrid=False)\n",
    "        fig2.update_traces( marker_line_color='rgb(8,48,107)',\n",
    "                  marker_line_width=2, opacity=0.6)\n",
    "        fig2.update_layout(showlegend=False, title=\"Top 10 user based on number of tweets\",\n",
    "                  xaxis_title=\"Count\",\n",
    "                  yaxis_title=\"user_name\")\n",
    "        fig2.update_xaxes(showline=True, linewidth=1, linecolor='black')\n",
    "        fig2.update_yaxes(showline=True, linewidth=1, linecolor='black')\n",
    "        st.plotly_chart(fig2)\n",
    "        fig3 = px.bar(source,x=source.head(10)[\"count\"], y=source.head(10)[\"source\"],\n",
    "             color_discrete_sequence=px.colors.qualitative.Alphabet,\n",
    "             height=600, width=900)\n",
    "        fig3.update_layout(template=\"plotly_white\",xaxis_showgrid=False,\n",
    "                  yaxis_showgrid=False)\n",
    "        fig3.update_traces( marker_line_color='rgb(8,48,107)',\n",
    "                  marker_line_width=2, opacity=0.6)\n",
    "        fig3.update_layout(showlegend=False, title=\"Top 10 device used to make tweets\",\n",
    "                  xaxis_title=\"Count\",\n",
    "                  yaxis_title=\"source\")\n",
    "        fig3.update_xaxes(showline=True, linewidth=1, linecolor='black')\n",
    "        fig3.update_yaxes(showline=True, linewidth=1, linecolor='black')\n",
    "        st.plotly_chart(fig3)\n",
    "        fig4 = px.bar(hashtags,x=hashtags.head(5)[\"count\"], y=hashtags.head(5)[\"hashtags\"],\n",
    "             color_discrete_sequence=px.colors.qualitative.Alphabet,\n",
    "             height=600, width=900)\n",
    "        fig4.update_layout(template=\"plotly_white\",xaxis_showgrid=False,\n",
    "                  yaxis_showgrid=False)\n",
    "        fig4.update_traces( marker_line_color='rgb(8,48,107)',\n",
    "                  marker_line_width=2, opacity=0.6)\n",
    "        fig4.update_layout(showlegend=False, title=\"Top 5 hashtags\",\n",
    "                  xaxis_title=\"Count\",\n",
    "                  yaxis_title=\"hashtags\")\n",
    "        fig4.update_xaxes(showline=True, linewidth=1, linecolor='black')\n",
    "        fig4.update_yaxes(showline=True, linewidth=1, linecolor='black')\n",
    "        st.plotly_chart(fig4)\n",
    "        fig5 = px.bar(sentiment,x=sentiment.head(3)[\"count\"], y=sentiment.head(3)[\"sentiment\"],\n",
    "             color_discrete_sequence=px.colors.qualitative.Alphabet,\n",
    "             height=600, width=900)\n",
    "        fig5.update_layout(template=\"plotly_white\",xaxis_showgrid=False,\n",
    "                  yaxis_showgrid=False)\n",
    "        fig5.update_traces( marker_line_color='rgb(8,48,107)',\n",
    "                  marker_line_width=2, opacity=0.6)\n",
    "        fig5.update_layout(showlegend=False, title=\"Sentiment Breakdown\",\n",
    "                  xaxis_title=\"Count\",\n",
    "                  yaxis_title=\"Sentiment\")\n",
    "        fig5.update_xaxes(showline=True, linewidth=1, linecolor='black')\n",
    "        fig5.update_yaxes(showline=True, linewidth=1, linecolor='black')\n",
    "        st.plotly_chart(fig5)\n",
    "    else:\n",
    "        st.subheader(\"Social Dilemma Tweet Classification Model\")\n",
    "        text= st.text_area(\"Message\", height=100)\n",
    "        if st.button(\"Predict Tweet Sentiment\"):\n",
    "            result= lr1.predict(tfidf.transform([text]))\n",
    "            dictionary = {'Neutral':0,'Positive':1,'Negative':2}\n",
    "            target1 = result.item()\n",
    "            final_result=[]\n",
    "            for actual, predicted in dictionary.items():\n",
    "                if predicted == target1:\n",
    "                    final_result.append(actual)\n",
    "            resultdf = pd.DataFrame({'Result':final_result},index=['Sentiment'])\n",
    "            st.write('Sentiment of your Review')\n",
    "            st.dataframe(resultdf)\n",
    "            \n",
    "if __name__ == '__main__':\n",
    "    main() "
   ]
  },
  {
   "cell_type": "code",
   "execution_count": null,
   "id": "6df5c062",
   "metadata": {},
   "outputs": [],
   "source": []
  }
 ],
 "metadata": {
  "kernelspec": {
   "display_name": "Python 3",
   "language": "python",
   "name": "python3"
  },
  "language_info": {
   "codemirror_mode": {
    "name": "ipython",
    "version": 3
   },
   "file_extension": ".py",
   "mimetype": "text/x-python",
   "name": "python",
   "nbconvert_exporter": "python",
   "pygments_lexer": "ipython3",
   "version": "3.8.8"
  }
 },
 "nbformat": 4,
 "nbformat_minor": 5
}
