{
 "cells": [
  {
   "cell_type": "code",
   "execution_count": 278,
   "id": "8c080e8a",
   "metadata": {},
   "outputs": [],
   "source": [
    "import pandas as pd \n",
    "import numpy as np\n",
    "import streamlit as st\n",
    "import plotly.express as px\n",
    "import re\n",
    "import pickle\n",
    "from imblearn.over_sampling import RandomOverSampler\n",
    "from sklearn.feature_extraction.text import TfidfVectorizer\n",
    "from sklearn.linear_model import LogisticRegression\n",
    "from sklearn.preprocessing import MinMaxScaler\n",
    "import warnings\n",
    "warnings.filterwarnings(\"ignore\")"
   ]
  },
  {
   "cell_type": "code",
   "execution_count": 279,
   "id": "e388cc49",
   "metadata": {},
   "outputs": [],
   "source": [
    "url = 'https://raw.githubusercontent.com/libanali12/textapp/main/TheSocialDilemma.csv'\n",
    "df = pd.read_csv(url)"
   ]
  },
  {
   "cell_type": "code",
   "execution_count": 280,
   "id": "c73ce9c0",
   "metadata": {},
   "outputs": [],
   "source": [
    "user_location = df['user_location'].value_counts().reset_index()\n",
    "user_location.columns = ['user_location', 'count']\n",
    "user_location = user_location[user_location['user_location']!='NA']\n",
    "user_location = user_location.sort_values(['count'],ascending=False)"
   ]
  },
  {
   "cell_type": "code",
   "execution_count": 281,
   "id": "b24cf047",
   "metadata": {},
   "outputs": [],
   "source": [
    "user_name = df['user_name'].value_counts().reset_index()\n",
    "user_name.columns = ['user_name', 'count']\n",
    "user_name = user_name[user_name['user_name']!='NA']\n",
    "user_name = user_name.sort_values(['count'],ascending=False)"
   ]
  },
  {
   "cell_type": "code",
   "execution_count": 282,
   "id": "565248b2",
   "metadata": {},
   "outputs": [],
   "source": [
    "source = df['source'].value_counts().reset_index()\n",
    "source.columns = ['source', 'count']\n",
    "source = source[source['source']!='NA']\n",
    "source = source.sort_values(['count'],ascending=False)"
   ]
  },
  {
   "cell_type": "code",
   "execution_count": 283,
   "id": "b97af51a",
   "metadata": {},
   "outputs": [],
   "source": [
    "hashtags = df['hashtags'].value_counts().reset_index()\n",
    "hashtags.columns = ['hashtags', 'count']\n",
    "hashtags = hashtags[hashtags['hashtags']!='NA']\n",
    "hashtags = hashtags.sort_values(['count'],ascending=False)"
   ]
  },
  {
   "cell_type": "code",
   "execution_count": 284,
   "id": "5a96e289",
   "metadata": {},
   "outputs": [],
   "source": [
    "sentiment = df['Sentiment'].value_counts().reset_index()\n",
    "sentiment.columns = ['sentiment', 'count']\n",
    "sentiment = sentiment[sentiment['sentiment']!='NA']\n",
    "sentiment = sentiment.sort_values(['count'],ascending=False)"
   ]
  },
  {
   "cell_type": "code",
   "execution_count": 316,
   "id": "8f9eb364",
   "metadata": {},
   "outputs": [],
   "source": [
    "def clean_text(x):\n",
    "  x = x.lower()\n",
    "  x = re.sub('\\[.*?\\]', '', x)\n",
    "  x = re.sub('https?://\\S+|www\\.\\S+', '', x)\n",
    "  x = re.sub('\\n', '', x)\n",
    "  x = \" \".join(filter(lambda x:x[0]!=\"@\", x.split()))\n",
    "  return x"
   ]
  },
  {
   "cell_type": "code",
   "execution_count": 317,
   "id": "471b45c4",
   "metadata": {},
   "outputs": [],
   "source": [
    "df['text'] = df['text'].apply(lambda x: clean_text(x))"
   ]
  },
  {
   "cell_type": "code",
   "execution_count": 318,
   "id": "41b7b648",
   "metadata": {},
   "outputs": [],
   "source": [
    "df['target'] = pd.factorize(df['Sentiment'])[0]"
   ]
  },
  {
   "cell_type": "code",
   "execution_count": 319,
   "id": "c893355c",
   "metadata": {},
   "outputs": [],
   "source": [
    "final_df = df[['text','Sentiment','target']]"
   ]
  },
  {
   "cell_type": "code",
   "execution_count": 320,
   "id": "c37c3e7f",
   "metadata": {},
   "outputs": [],
   "source": [
    "tfidf = TfidfVectorizer(min_df=5,stop_words='english')\n",
    "scaler = MinMaxScaler()"
   ]
  },
  {
   "cell_type": "code",
   "execution_count": 321,
   "id": "0b8e5fee",
   "metadata": {},
   "outputs": [],
   "source": [
    "features_tfidf = scaler.fit_transform(tfidf.fit_transform(final_df.text).toarray())"
   ]
  },
  {
   "cell_type": "code",
   "execution_count": 322,
   "id": "3c555ab5",
   "metadata": {},
   "outputs": [],
   "source": [
    "x = features_tfidf\n",
    "y = final_df['target']"
   ]
  },
  {
   "cell_type": "code",
   "execution_count": 323,
   "id": "6a78d45a",
   "metadata": {},
   "outputs": [],
   "source": [
    "oversampler = RandomOverSampler()\n",
    "x_sm,y_sm = oversampler.fit_resample(x,y)"
   ]
  },
  {
   "cell_type": "code",
   "execution_count": 324,
   "id": "620e77ab",
   "metadata": {
    "scrolled": false
   },
   "outputs": [],
   "source": [
    "model = pickle.load(open('/Users/MACBOOK/Downloads/model.pkl', 'rb'))"
   ]
  },
  {
   "cell_type": "code",
   "execution_count": 325,
   "id": "b725b4aa",
   "metadata": {
    "scrolled": false
   },
   "outputs": [],
   "source": [
    "st.title(\"Social Dilemma Tweet Classification App\")\n",
    "menu = [\"Home\",\"Model\"]\n",
    "choice = st.sidebar.selectbox(\"Menu\",menu)\n",
    "if choice == \"Home\":\n",
    "    st.subheader(\"Home\")\n",
    "    st.write('Social Dilemma Tweet Dataset')\n",
    "    st.dataframe(df.head(5))\n",
    "    st.subheader(\"Exploratory Data Analysis\")\n",
    "    fig1 = px.bar(user_location,x=user_location.head(10)[\"count\"], y=user_location.head(10)[\"user_location\"],\n",
    "             color_discrete_sequence=px.colors.qualitative.Alphabet,\n",
    "             height=600, width=900)\n",
    "    fig1.update_layout(template=\"plotly_white\",xaxis_showgrid=False,\n",
    "                  yaxis_showgrid=False)\n",
    "    fig1.update_traces( marker_line_color='rgb(8,48,107)',\n",
    "                  marker_line_width=2, opacity=0.6)\n",
    "    fig1.update_layout(showlegend=False, title=\"Top 10 user locations\",\n",
    "                  xaxis_title=\"Count\",\n",
    "                  yaxis_title=\"user_location\")\n",
    "    fig1.update_xaxes(showline=True, linewidth=1, linecolor='black')\n",
    "    fig1.update_yaxes(showline=True, linewidth=1, linecolor='black')\n",
    "    st.plotly_chart(fig1)\n",
    "    fig2 = px.bar(user_name,x=user_name.head(10)[\"count\"], y=user_name.head(10)[\"user_name\"],\n",
    "             color_discrete_sequence=px.colors.qualitative.Alphabet,\n",
    "             height=600, width=900)\n",
    "    fig2.update_layout(template=\"plotly_white\",xaxis_showgrid=False,\n",
    "                  yaxis_showgrid=False)\n",
    "    fig2.update_traces( marker_line_color='rgb(8,48,107)',\n",
    "                  marker_line_width=2, opacity=0.6)\n",
    "    fig2.update_layout(showlegend=False, title=\"Top 10 user based on number of tweets\",\n",
    "                  xaxis_title=\"Count\",\n",
    "                  yaxis_title=\"user_name\")\n",
    "    fig2.update_xaxes(showline=True, linewidth=1, linecolor='black')\n",
    "    fig2.update_yaxes(showline=True, linewidth=1, linecolor='black')\n",
    "    st.plotly_chart(fig2)\n",
    "    fig3 = px.bar(source,x=source.head(10)[\"count\"], y=source.head(10)[\"source\"],\n",
    "             color_discrete_sequence=px.colors.qualitative.Alphabet,\n",
    "             height=600, width=900)\n",
    "    fig3.update_layout(template=\"plotly_white\",xaxis_showgrid=False,\n",
    "                  yaxis_showgrid=False)\n",
    "    fig3.update_traces( marker_line_color='rgb(8,48,107)',\n",
    "                  marker_line_width=2, opacity=0.6)\n",
    "    fig3.update_layout(showlegend=False, title=\"Top 10 device used to make tweets\",\n",
    "                  xaxis_title=\"Count\",\n",
    "                  yaxis_title=\"source\")\n",
    "    fig3.update_xaxes(showline=True, linewidth=1, linecolor='black')\n",
    "    fig3.update_yaxes(showline=True, linewidth=1, linecolor='black')\n",
    "    st.plotly_chart(fig3)\n",
    "    fig4 = px.bar(hashtags,x=hashtags.head(5)[\"count\"], y=hashtags.head(5)[\"hashtags\"],\n",
    "             color_discrete_sequence=px.colors.qualitative.Alphabet,\n",
    "             height=600, width=900)\n",
    "    fig4.update_layout(template=\"plotly_white\",xaxis_showgrid=False,\n",
    "                  yaxis_showgrid=False)\n",
    "    fig4.update_traces( marker_line_color='rgb(8,48,107)',\n",
    "                  marker_line_width=2, opacity=0.6)\n",
    "    fig4.update_layout(showlegend=False, title=\"Top 5 hashtags\",\n",
    "                  xaxis_title=\"Count\",\n",
    "                  yaxis_title=\"hashtags\")\n",
    "    fig4.update_xaxes(showline=True, linewidth=1, linecolor='black')\n",
    "    fig4.update_yaxes(showline=True, linewidth=1, linecolor='black')\n",
    "    st.plotly_chart(fig4)\n",
    "    fig5 = px.bar(sentiment,x=sentiment.head(3)[\"count\"], y=sentiment.head(3)[\"sentiment\"],\n",
    "             color_discrete_sequence=px.colors.qualitative.Alphabet,\n",
    "             height=600, width=900)\n",
    "    fig5.update_layout(template=\"plotly_white\",xaxis_showgrid=False,\n",
    "                  yaxis_showgrid=False)\n",
    "    fig5.update_traces( marker_line_color='rgb(8,48,107)',\n",
    "                  marker_line_width=2, opacity=0.6)\n",
    "    fig5.update_layout(showlegend=False, title=\"Sentiment Breakdown\",\n",
    "                  xaxis_title=\"Count\",\n",
    "                  yaxis_title=\"Sentiment\")\n",
    "    fig5.update_xaxes(showline=True, linewidth=1, linecolor='black')\n",
    "    fig5.update_yaxes(showline=True, linewidth=1, linecolor='black')\n",
    "    st.plotly_chart(fig5)\n",
    "else:\n",
    "    st.subheader(\"Social Dilemma Tweet Classification Model\")\n",
    "    text= st.text_area(\"Message\", height=100)\n",
    "    if st.button(\"Predict Tweet Sentiment\"):\n",
    "        result= model.predict(tfidf.transform([text]))\n",
    "        resultdf = pd.DataFrame({'Result':result},index=['Sentiment'])\n",
    "        resultdf['Class'] = ['Neutral' if x == 0 else 'Postive' if x == 1 else 'Negative' for x in resultdf['Result']]\n",
    "        st.write('Sentiment of your Review')\n",
    "        st.dataframe(resultdf) "
   ]
  },
  {
   "cell_type": "code",
   "execution_count": null,
   "id": "c0954d8c",
   "metadata": {},
   "outputs": [],
   "source": []
  }
 ],
 "metadata": {
  "kernelspec": {
   "display_name": "Python 3",
   "language": "python",
   "name": "python3"
  },
  "language_info": {
   "codemirror_mode": {
    "name": "ipython",
    "version": 3
   },
   "file_extension": ".py",
   "mimetype": "text/x-python",
   "name": "python",
   "nbconvert_exporter": "python",
   "pygments_lexer": "ipython3",
   "version": "3.8.8"
  }
 },
 "nbformat": 4,
 "nbformat_minor": 5
}
